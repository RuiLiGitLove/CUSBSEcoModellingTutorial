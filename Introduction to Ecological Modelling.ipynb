{
 "cells": [
  {
   "cell_type": "markdown",
   "metadata": {},
   "source": [
    "# Lotka-Volterra predator-prey model"
   ]
  },
  {
   "cell_type": "markdown",
   "metadata": {},
   "source": [
    "$$\n",
    "\\frac{dx}{dt} = x(\\alpha - \\beta y) \\\\\n",
    "\\frac{dy}{dt} = y(\\delta x - \\gamma)\n",
    "$$"
   ]
  },
  {
   "cell_type": "markdown",
   "metadata": {},
   "source": [
    "Intuition behind this is as follows:\n",
    "* Prey (x) grows exponentially\n",
    "* Prey population is reduced by consumption due to predators\n",
    "* Predator population (y) growth dependent on available prey\n",
    "* Predator population dies at a constant rate\n",
    "* All changes are proportional to population size (good model for e.g. mitosis)\n",
    "\n",
    "Critical assumptions:\n",
    "* Prey has infinite food supply (carrying capacity of ecosystem is infinite)\n",
    "* Predators have infinite appetite and consume the prey exclusively\n",
    "* No genetic changes"
   ]
  },
  {
   "cell_type": "markdown",
   "metadata": {},
   "source": [
    "# Differential equations explained"
   ]
  },
  {
   "cell_type": "markdown",
   "metadata": {},
   "source": [
    "There are many reasons to use differential equations in models, in both physical and biological sciences. Here are three of the simplest and most important:\n",
    "\n",
    "1. Sometimes the dynamics of a process are sufficient to give us useful information, i.e. we might care about where a system is stable, or how quickly a quantity is dissipated or grows. We can get many of these properties instantly from inspection of the parameters in  a differential equation.\n",
    "\n",
    "2. It's harder to integrate than to differentiate. Sometimes an equation can be constructed from an understanding of the phenomenon, but a closed form integral solution can be difficult or impossible to derive (try integrating the Lotka-Volterra equations!). It's pretty easy to solve differential equations numerically, so this representation can be sufficient.\n",
    "\n",
    "3. Many physical phenomena directly relate to derivatives of quantities (e.g. Newton's second law).\n",
    "\n",
    "Suppose we wanted to represent the function $x = Ae^{\\alpha t}$ as a differential equation:\n",
    "\n",
    "$$\n",
    "\\frac{dx}{dt} = x\n",
    "$$\n",
    "\n",
    "Convince yourself that this works!"
   ]
  },
  {
   "cell_type": "markdown",
   "metadata": {},
   "source": [
    "# Solving differential equations numerically"
   ]
  },
  {
   "cell_type": "code",
   "execution_count": null,
   "metadata": {},
   "outputs": [],
   "source": [
    "%matplotlib inline\n",
    "import numpy as np\n",
    "import matplotlib.pyplot as plt\n",
    "from scipy import integrate\n",
    "from scipy import fftpack\n",
    "from scipy import optimize\n",
    "\n",
    "#plt.style.use('E:\\\\Documents\\\\OneDrive\\\\Gdrive\\\\Documents\\\\report.mplstyle')\n",
    "plt.style.use('C:\\\\Users\\\\Bill\\\\OneDrive\\\\Gdrive\\\\Documents\\\\report.mplstyle')"
   ]
  },
  {
   "cell_type": "markdown",
   "metadata": {},
   "source": [
    "Here we'll use Scipy's `odeint` as a method to numerically solve the Lotka-Volterra equations over time. This function takes as arguments a function describing the derivative of a variable with respect to the coordinate (in this case time), initial conditions (e.g. how many predator and prey you start off with, something that's very important for many classes of differential equations), and the range of the coordinate to integrate over.\n",
    "\n",
    "The function is structured as if it were solving an equation in one variable. However, it does accept a vector as this variable, so we can \"trick it\" by casting the two variables representing predator and prey into a single vector:\n",
    "\n",
    "$$\n",
    "e = \\begin{bmatrix}\n",
    "e_1 \\\\ e_2\n",
    "\\end{bmatrix} = \\begin{bmatrix}\n",
    "x \\\\\n",
    "y\n",
    "\\end{bmatrix}\n",
    "$$\n",
    "\n",
    "What are the corresponding derivatives in terms of $e_1$ and $e_2$? Set these up in the function below:"
   ]
  },
  {
   "cell_type": "code",
   "execution_count": null,
   "metadata": {},
   "outputs": [],
   "source": [
    "def dedt(x, t, alpha, beta, delta, gamma):\n",
    "    # Note that x is a vector of length 2\n",
    "    # DEFINE LOTKA-VOLTERRA EQUATIONS HERE\n",
    "    return([de1,de2])\n"
   ]
  },
  {
   "cell_type": "code",
   "execution_count": null,
   "metadata": {},
   "outputs": [],
   "source": [
    "def run_simulation(alpha, beta, delta, gamma, x_init, y_init):\n",
    "    t = np.linspace(0, 0.1, 1000)\n",
    "    dedt = lambda x,t: dedt(x,t, alpha, beta, delta, gamma)\n",
    "    x_t = integrate.odeint(dedt, (x_init,y_init), t)\n",
    "    return(t,x_t)\n"
   ]
  },
  {
   "cell_type": "markdown",
   "metadata": {},
   "source": [
    "Now play around with the parameters and see what happens!"
   ]
  },
  {
   "cell_type": "code",
   "execution_count": null,
   "metadata": {},
   "outputs": [],
   "source": [
    "\n",
    "alpha = 0\n",
    "beta = 0\n",
    "delta = 0\n",
    "gamma = 0\n",
    "x_init = 0\n",
    "y_init = 0\n",
    "\n",
    "(t,e)=run_simulation(alpha, beta, delta, gamma, x_init, y_init)\n",
    "fig1 = plt.figure()\n",
    "ax1 = fig1.add_subplot(1,1,1)\n",
    "ax2 = ax1.twinx()\n",
    "line1 = ax1.plot(t,e[:,0],label= \"Prey\")\n",
    "line2 = ax2.plot(t,e[:,1],label= \"Predator\", color='C1')\n",
    "lines = line1 + line2\n",
    "labels = [l.get_label() for l in lines]\n",
    "ax1.legend(lines,labels)\n",
    "ax1.set_xlabel('Time')\n",
    "ax1.set_ylabel('Prey population')\n",
    "ax2.set_ylabel('Predator population')"
   ]
  },
  {
   "cell_type": "markdown",
   "metadata": {},
   "source": [
    "# Phase plots"
   ]
  },
  {
   "cell_type": "markdown",
   "metadata": {},
   "source": [
    "Instead of tracking the change in variables over time, we can often learn things about a system by looking at how the variables relate to each other irrespective of time. The reasoning behind this is that the rate of change over time for each variable is a function of one or more of the variables - if the populations of predator and prey are at particular values at $t_0$, the trajectories that they will follow are the same as if they find those particular values at $t_1$.\n",
    "\n",
    "In other words, we can describe trajectories of the *state* of the system by plotting one variable against another, irrespective of time, if the system is *time-invariant*. We call such a plot a *phase plot*. See below for an example:"
   ]
  },
  {
   "cell_type": "markdown",
   "metadata": {},
   "source": [
    "![Phase plot](https://i.imgur.com/53kuNA8.png)"
   ]
  },
  {
   "cell_type": "markdown",
   "metadata": {},
   "source": [
    "The arrows in the plots above tell us where a particular state will go next. In each plot a single trajectory is plotted out in blue. Are these systems stable or unstable?"
   ]
  },
  {
   "cell_type": "markdown",
   "metadata": {},
   "source": [
    "How do we generate these for the Lotka-Volterra model? We need to find how the population of predators (y) varies with respect to the population of prey (x), i.e. $dy/dx$. This will define trajectories over the entire $(x, y)$ space because spatial derivatives are tangent to a trajectory at every point, and an infinitely large number of infinitely short tangents will construct the trajectory itself.\n",
    "\n",
    "So let's develop the spatial derivatives for the Lotka-Volterra model!"
   ]
  },
  {
   "cell_type": "code",
   "execution_count": null,
   "metadata": {},
   "outputs": [],
   "source": [
    "def space_derivatives(e,alpha, beta, delta, gamma):\n",
    "    e1, e2 = e\n",
    "    # Spatial derivatives de1, de2 here\n",
    "    return (de1, de2)"
   ]
  },
  {
   "cell_type": "code",
   "execution_count": null,
   "metadata": {},
   "outputs": [],
   "source": [
    "\n",
    "alpha = 0\n",
    "beta = 0\n",
    "delta = 0\n",
    "gamma = 0\n",
    "x_init = 0\n",
    "y_init = 0\n",
    "\n",
    "(time, trace) = run_simulation(alpha, beta, delta, gamma, x_init, y_init)\n",
    "\n",
    "# Generating spatial derivatives over a range of x and y\n",
    "# If you're keen convince yourself this code works by consulting the documentation for meshgrid in Numpy\n",
    "e1_points = np.linspace(np.min(trace[:,0]), np.max(trace[:,0]), 20)\n",
    "e2_points = np.linspace(np.min(trace[:,1]), np.max(trace[:,1]), 20)\n",
    "\n",
    "e1_space, e2_space = np.meshgrid(e1_points, e2_points)\n",
    "\n",
    "de1, de2 = space_derivatives((e1_space, e2_space), alpha, beta, delta, gamma)\n",
    "\n",
    "fig5 = plt.figure(figsize=[10,5])\n",
    "ax1 = fig5.add_subplot(1, 2, 1)\n",
    "ax1.plot(trace[:,0],trace[:,1])\n",
    "ax1.quiver(e1_space, e2_space, de1, de2, scale_units='xy', angles='xy', scale=1e4)\n",
    "ax1.set_xlabel(r\"$\\epsilon$ (cm)\")\n",
    "ax1.set_ylabel(r\"$\\dot{\\epsilon}$ (cm/s)\")\n",
    "ax1.set_title(r\"$P_l = 3300$dyn/cm$^2$\")"
   ]
  },
  {
   "cell_type": "markdown",
   "metadata": {},
   "source": [
    "# Freestyling models"
   ]
  }
 ],
 "metadata": {
  "kernelspec": {
   "display_name": "Python 3",
   "language": "python",
   "name": "python3"
  },
  "language_info": {
   "codemirror_mode": {
    "name": "ipython",
    "version": 3
   },
   "file_extension": ".py",
   "mimetype": "text/x-python",
   "name": "python",
   "nbconvert_exporter": "python",
   "pygments_lexer": "ipython3",
   "version": "3.5.2"
  }
 },
 "nbformat": 4,
 "nbformat_minor": 1
}
